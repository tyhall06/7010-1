{
 "cells": [
  {
   "cell_type": "markdown",
   "metadata": {},
   "source": [
    "# Descriptive Statistics with `Python` Exercises\n",
    "\n",
    "This is the second exercise for this course module. \n",
    "Like the prior exercise, all of the concepts in the exercise will be familiar in the sense that it will mirror the concepts that we learned throughout the labs and practices. \n",
    "\n",
    "There could be multiple ways to solve a single answer, some more elegant than others. \n",
    "Revisit older notebooks for guidance, ask questions along the way, \n",
    "and **we encourage you to search the internet**. \n",
    "Chances are that someone has had the same/similar question / error to the one you have.\n",
    "\n",
    "For this exercise, we will be working with the `NationalNames3.csv`. Again, this is in the `/dsa/data/all_datasets/baby-names/` directory."
   ]
  },
  {
   "cell_type": "markdown",
   "metadata": {},
   "source": [
    "**Exercise 1**: *Read in the `NationalNames3.csv` file and name it `df`.*"
   ]
  },
  {
   "cell_type": "code",
   "execution_count": 30,
   "metadata": {},
   "outputs": [
    {
     "data": {
      "text/html": [
       "<div>\n",
       "<style scoped>\n",
       "    .dataframe tbody tr th:only-of-type {\n",
       "        vertical-align: middle;\n",
       "    }\n",
       "\n",
       "    .dataframe tbody tr th {\n",
       "        vertical-align: top;\n",
       "    }\n",
       "\n",
       "    .dataframe thead th {\n",
       "        text-align: right;\n",
       "    }\n",
       "</style>\n",
       "<table border=\"1\" class=\"dataframe\">\n",
       "  <thead>\n",
       "    <tr style=\"text-align: right;\">\n",
       "      <th></th>\n",
       "      <th>Id</th>\n",
       "      <th>Name</th>\n",
       "      <th>Year</th>\n",
       "      <th>Gender</th>\n",
       "      <th>Count</th>\n",
       "    </tr>\n",
       "  </thead>\n",
       "  <tbody>\n",
       "    <tr>\n",
       "      <th>0</th>\n",
       "      <td>1</td>\n",
       "      <td>Mary</td>\n",
       "      <td>1880</td>\n",
       "      <td>F</td>\n",
       "      <td>7065</td>\n",
       "    </tr>\n",
       "    <tr>\n",
       "      <th>1</th>\n",
       "      <td>5</td>\n",
       "      <td>Minnie</td>\n",
       "      <td>1880</td>\n",
       "      <td>F</td>\n",
       "      <td>1746</td>\n",
       "    </tr>\n",
       "    <tr>\n",
       "      <th>2</th>\n",
       "      <td>7</td>\n",
       "      <td>Ida</td>\n",
       "      <td>1880</td>\n",
       "      <td>F</td>\n",
       "      <td>1472</td>\n",
       "    </tr>\n",
       "    <tr>\n",
       "      <th>3</th>\n",
       "      <td>9</td>\n",
       "      <td>Bertha</td>\n",
       "      <td>1880</td>\n",
       "      <td>F</td>\n",
       "      <td>1320</td>\n",
       "    </tr>\n",
       "    <tr>\n",
       "      <th>4</th>\n",
       "      <td>15</td>\n",
       "      <td>Cora</td>\n",
       "      <td>1880</td>\n",
       "      <td>F</td>\n",
       "      <td>1045</td>\n",
       "    </tr>\n",
       "  </tbody>\n",
       "</table>\n",
       "</div>"
      ],
      "text/plain": [
       "   Id    Name  Year Gender  Count\n",
       "0   1    Mary  1880      F   7065\n",
       "1   5  Minnie  1880      F   1746\n",
       "2   7     Ida  1880      F   1472\n",
       "3   9  Bertha  1880      F   1320\n",
       "4  15    Cora  1880      F   1045"
      ]
     },
     "execution_count": 30,
     "metadata": {},
     "output_type": "execute_result"
    }
   ],
   "source": [
    "# Exercise 1 code goes here\n",
    "# -------------------------\n",
    "import pandas as pd\n",
    "\n",
    "df = pd.read_csv('/dsa/data/all_datasets/baby-names/NationalNames3.csv')\n",
    "\n",
    "df.head()\n",
    "\n"
   ]
  },
  {
   "cell_type": "markdown",
   "metadata": {},
   "source": [
    "We will start out simple.\n",
    "\n",
    "**Exercise 2**: Find the mean of the `Count` column and how spread out is the data?"
   ]
  },
  {
   "cell_type": "code",
   "execution_count": 37,
   "metadata": {},
   "outputs": [
    {
     "name": "stdout",
     "output_type": "stream",
     "text": [
      "181.71348937247797\n",
      "1535.8090963652944\n"
     ]
    }
   ],
   "source": [
    "# Exercise 2 code goes here\n",
    "# -------------------------\n",
    "import numpy as np\n",
    "print(np.mean(df.Count))\n",
    "print(np.std(df.Count))\n"
   ]
  },
  {
   "cell_type": "markdown",
   "metadata": {},
   "source": [
    "**Exercise 3:** Find the minimum, first quartile, median, third quartile and max count of the name \"Sam\" in this dataset."
   ]
  },
  {
   "cell_type": "code",
   "execution_count": 23,
   "metadata": {},
   "outputs": [
    {
     "data": {
      "text/html": [
       "<div>\n",
       "<style scoped>\n",
       "    .dataframe tbody tr th:only-of-type {\n",
       "        vertical-align: middle;\n",
       "    }\n",
       "\n",
       "    .dataframe tbody tr th {\n",
       "        vertical-align: top;\n",
       "    }\n",
       "\n",
       "    .dataframe thead th {\n",
       "        text-align: right;\n",
       "    }\n",
       "</style>\n",
       "<table border=\"1\" class=\"dataframe\">\n",
       "  <thead>\n",
       "    <tr style=\"text-align: right;\">\n",
       "      <th></th>\n",
       "      <th>Id</th>\n",
       "      <th>Year</th>\n",
       "      <th>Count</th>\n",
       "    </tr>\n",
       "  </thead>\n",
       "  <tbody>\n",
       "    <tr>\n",
       "      <th>count</th>\n",
       "      <td>8.600000e+01</td>\n",
       "      <td>86.000000</td>\n",
       "      <td>86.000000</td>\n",
       "    </tr>\n",
       "    <tr>\n",
       "      <th>mean</th>\n",
       "      <td>4.756664e+05</td>\n",
       "      <td>1942.837209</td>\n",
       "      <td>608.581395</td>\n",
       "    </tr>\n",
       "    <tr>\n",
       "      <th>std</th>\n",
       "      <td>4.163065e+05</td>\n",
       "      <td>32.879409</td>\n",
       "      <td>661.426755</td>\n",
       "    </tr>\n",
       "    <tr>\n",
       "      <th>min</th>\n",
       "      <td>9.351000e+03</td>\n",
       "      <td>1884.000000</td>\n",
       "      <td>5.000000</td>\n",
       "    </tr>\n",
       "    <tr>\n",
       "      <th>25%</th>\n",
       "      <td>1.663595e+05</td>\n",
       "      <td>1919.250000</td>\n",
       "      <td>16.250000</td>\n",
       "    </tr>\n",
       "    <tr>\n",
       "      <th>50%</th>\n",
       "      <td>3.882005e+05</td>\n",
       "      <td>1942.000000</td>\n",
       "      <td>482.000000</td>\n",
       "    </tr>\n",
       "    <tr>\n",
       "      <th>75%</th>\n",
       "      <td>6.320052e+05</td>\n",
       "      <td>1964.250000</td>\n",
       "      <td>1071.000000</td>\n",
       "    </tr>\n",
       "    <tr>\n",
       "      <th>max</th>\n",
       "      <td>1.778931e+06</td>\n",
       "      <td>2013.000000</td>\n",
       "      <td>2505.000000</td>\n",
       "    </tr>\n",
       "  </tbody>\n",
       "</table>\n",
       "</div>"
      ],
      "text/plain": [
       "                 Id         Year        Count\n",
       "count  8.600000e+01    86.000000    86.000000\n",
       "mean   4.756664e+05  1942.837209   608.581395\n",
       "std    4.163065e+05    32.879409   661.426755\n",
       "min    9.351000e+03  1884.000000     5.000000\n",
       "25%    1.663595e+05  1919.250000    16.250000\n",
       "50%    3.882005e+05  1942.000000   482.000000\n",
       "75%    6.320052e+05  1964.250000  1071.000000\n",
       "max    1.778931e+06  2013.000000  2505.000000"
      ]
     },
     "execution_count": 23,
     "metadata": {},
     "output_type": "execute_result"
    }
   ],
   "source": [
    "# Exercise 3 code goes here\n",
    "# -------------------------\n",
    "df[df['Name'] == 'Sam'].describe()\n",
    "#min = 5, 1Q = 16.25, 2Q/Med = 482, 3Q = 1071, max = 2505\n"
   ]
  },
  {
   "cell_type": "markdown",
   "metadata": {},
   "source": [
    "**Challenge Exercise 1**: On average (use the median), are there more female names per year or male names? Remember, you will have to add the names per year per gender."
   ]
  },
  {
   "cell_type": "code",
   "execution_count": 49,
   "metadata": {},
   "outputs": [
    {
     "name": "stdout",
     "output_type": "stream",
     "text": [
      "2007.0\n",
      "1516.0\n"
     ]
    }
   ],
   "source": [
    "# Challenge Exercise 1 code goes here\n",
    "# -----------------------------------\n",
    "fem = df[df['Gender'] == 'F']\n",
    "male = df[df['Gender'] == 'M']\n",
    "\n",
    "print(np.median(fem.groupby('Year')['Name'].count()))\n",
    "print(np.median(male.groupby('Year')['Name'].count()))\n",
    "#More female names than male names by median per year"
   ]
  },
  {
   "cell_type": "markdown",
   "metadata": {},
   "source": [
    "**Exercise 4**: For the name \"Margaret\" over the years, 65% is equal or below what Count? \n"
   ]
  },
  {
   "cell_type": "code",
   "execution_count": 25,
   "metadata": {},
   "outputs": [
    {
     "data": {
      "text/plain": [
       "3256.4000000000005"
      ]
     },
     "execution_count": 25,
     "metadata": {},
     "output_type": "execute_result"
    }
   ],
   "source": [
    "# Exercise 4 code goes here\n",
    "# -------------------------\n",
    "dfmags = df[df['Name'] == 'Margaret']\n",
    "\n",
    "print(np.percentile(dfmags.Count, 65))"
   ]
  },
  {
   "cell_type": "markdown",
   "metadata": {},
   "source": [
    "**Exercise 5**: Find the covariance and correlation between the Year and Count of the name \"Addison\"."
   ]
  },
  {
   "cell_type": "code",
   "execution_count": 56,
   "metadata": {},
   "outputs": [
    {
     "name": "stdout",
     "output_type": "stream",
     "text": [
      "48944.459016393455\n",
      "0.4259311439218686\n"
     ]
    }
   ],
   "source": [
    "# Exercise 5 code goes here\n",
    "# -------------------------\n",
    "print(df.Year.cov(df.Count[df['Name'] == 'Addison']))\n",
    "print(df.Year.corr(df.Count[df['Name'] == 'Addison']))"
   ]
  },
  {
   "cell_type": "markdown",
   "metadata": {},
   "source": [
    "**Challenge Exercise 2**: Does accounting for Gender affect the strength of the linear relationship with regards to Exercise 5? Does one gender have a stronger linear relationship than the other? \n"
   ]
  },
  {
   "cell_type": "code",
   "execution_count": 55,
   "metadata": {},
   "outputs": [
    {
     "name": "stdout",
     "output_type": "stream",
     "text": [
      "0.8318457439323934\n",
      "0.6712916451351595\n"
     ]
    }
   ],
   "source": [
    "# Challenge Exercise 2 code goes here\n",
    "# -----------------------------------\n",
    "print(df.Year.corr(df.Count[(df['Name'] == 'Addison') & (df['Gender'] == 'F')]))\n",
    "print(df.Year.corr(df.Count[(df['Name'] == 'Addison') & (df['Gender'] == 'M')]))\n",
    "#Yes, Addison has a stronger linear association with Year in Females "
   ]
  },
  {
   "cell_type": "markdown",
   "metadata": {},
   "source": [
    "# Save your notebook, then `File > Close and Halt`"
   ]
  }
 ],
 "metadata": {
  "kernelspec": {
   "display_name": "Python 3",
   "language": "python",
   "name": "python3"
  },
  "language_info": {
   "codemirror_mode": {
    "name": "ipython",
    "version": 3
   },
   "file_extension": ".py",
   "mimetype": "text/x-python",
   "name": "python",
   "nbconvert_exporter": "python",
   "pygments_lexer": "ipython3",
   "version": "3.7.3"
  }
 },
 "nbformat": 4,
 "nbformat_minor": 2
}
